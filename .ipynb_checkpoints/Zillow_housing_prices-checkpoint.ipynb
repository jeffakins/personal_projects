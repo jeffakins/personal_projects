{
 "cells": [
  {
   "cell_type": "markdown",
   "id": "3c8d8448",
   "metadata": {},
   "source": [
    "## Zillow Dataset\n",
    "- Annual Average Housing Prices by City and Region"
   ]
  },
  {
   "cell_type": "code",
   "execution_count": 1,
   "id": "3153d1b3",
   "metadata": {},
   "outputs": [],
   "source": [
    "import pandas as pd\n",
    "import numpy as np\n",
    "import matplotlib as plt\n",
    "import seaborn as sns"
   ]
  },
  {
   "cell_type": "code",
   "execution_count": 2,
   "id": "df7214b1",
   "metadata": {},
   "outputs": [],
   "source": [
    "house_df = pd.read_csv('Metro_zhvi_uc_sfrcondo_tier_0.33_0.67_sm_sa_month.csv')"
   ]
  },
  {
   "cell_type": "code",
   "execution_count": 3,
   "id": "b4e4395a",
   "metadata": {},
   "outputs": [
    {
     "data": {
      "text/html": [
       "<div>\n",
       "<style scoped>\n",
       "    .dataframe tbody tr th:only-of-type {\n",
       "        vertical-align: middle;\n",
       "    }\n",
       "\n",
       "    .dataframe tbody tr th {\n",
       "        vertical-align: top;\n",
       "    }\n",
       "\n",
       "    .dataframe thead th {\n",
       "        text-align: right;\n",
       "    }\n",
       "</style>\n",
       "<table border=\"1\" class=\"dataframe\">\n",
       "  <thead>\n",
       "    <tr style=\"text-align: right;\">\n",
       "      <th></th>\n",
       "      <th>RegionID</th>\n",
       "      <th>SizeRank</th>\n",
       "      <th>RegionName</th>\n",
       "      <th>RegionType</th>\n",
       "      <th>StateName</th>\n",
       "      <th>1996-01-31</th>\n",
       "      <th>1996-02-29</th>\n",
       "      <th>1996-03-31</th>\n",
       "      <th>1996-04-30</th>\n",
       "      <th>1996-05-31</th>\n",
       "      <th>...</th>\n",
       "      <th>2020-09-30</th>\n",
       "      <th>2020-10-31</th>\n",
       "      <th>2020-11-30</th>\n",
       "      <th>2020-12-31</th>\n",
       "      <th>2021-01-31</th>\n",
       "      <th>2021-02-28</th>\n",
       "      <th>2021-03-31</th>\n",
       "      <th>2021-04-30</th>\n",
       "      <th>2021-05-31</th>\n",
       "      <th>2021-06-30</th>\n",
       "    </tr>\n",
       "  </thead>\n",
       "  <tbody>\n",
       "    <tr>\n",
       "      <th>0</th>\n",
       "      <td>102001</td>\n",
       "      <td>0</td>\n",
       "      <td>United States</td>\n",
       "      <td>Country</td>\n",
       "      <td>NaN</td>\n",
       "      <td>107824.0</td>\n",
       "      <td>107851.0</td>\n",
       "      <td>107901.0</td>\n",
       "      <td>108028.0</td>\n",
       "      <td>108172.0</td>\n",
       "      <td>...</td>\n",
       "      <td>260160.0</td>\n",
       "      <td>262686.0</td>\n",
       "      <td>265487.0</td>\n",
       "      <td>268473.0</td>\n",
       "      <td>271572.0</td>\n",
       "      <td>274922.0</td>\n",
       "      <td>278575.0</td>\n",
       "      <td>282729.0</td>\n",
       "      <td>287678.0</td>\n",
       "      <td>293349.0</td>\n",
       "    </tr>\n",
       "    <tr>\n",
       "      <th>1</th>\n",
       "      <td>394913</td>\n",
       "      <td>1</td>\n",
       "      <td>New York, NY</td>\n",
       "      <td>Msa</td>\n",
       "      <td>NY</td>\n",
       "      <td>186425.0</td>\n",
       "      <td>185990.0</td>\n",
       "      <td>185713.0</td>\n",
       "      <td>185184.0</td>\n",
       "      <td>184869.0</td>\n",
       "      <td>...</td>\n",
       "      <td>493243.0</td>\n",
       "      <td>497873.0</td>\n",
       "      <td>502895.0</td>\n",
       "      <td>507811.0</td>\n",
       "      <td>512569.0</td>\n",
       "      <td>517462.0</td>\n",
       "      <td>522617.0</td>\n",
       "      <td>528316.0</td>\n",
       "      <td>535161.0</td>\n",
       "      <td>543322.0</td>\n",
       "    </tr>\n",
       "    <tr>\n",
       "      <th>2</th>\n",
       "      <td>753899</td>\n",
       "      <td>2</td>\n",
       "      <td>Los Angeles-Long Beach-Anaheim, CA</td>\n",
       "      <td>Msa</td>\n",
       "      <td>CA</td>\n",
       "      <td>184735.0</td>\n",
       "      <td>184993.0</td>\n",
       "      <td>185012.0</td>\n",
       "      <td>185121.0</td>\n",
       "      <td>185094.0</td>\n",
       "      <td>...</td>\n",
       "      <td>711532.0</td>\n",
       "      <td>718286.0</td>\n",
       "      <td>725600.0</td>\n",
       "      <td>733705.0</td>\n",
       "      <td>741990.0</td>\n",
       "      <td>751018.0</td>\n",
       "      <td>760575.0</td>\n",
       "      <td>773151.0</td>\n",
       "      <td>791679.0</td>\n",
       "      <td>813679.0</td>\n",
       "    </tr>\n",
       "    <tr>\n",
       "      <th>3</th>\n",
       "      <td>394463</td>\n",
       "      <td>3</td>\n",
       "      <td>Chicago, IL</td>\n",
       "      <td>Msa</td>\n",
       "      <td>IL</td>\n",
       "      <td>147146.0</td>\n",
       "      <td>147127.0</td>\n",
       "      <td>147006.0</td>\n",
       "      <td>147067.0</td>\n",
       "      <td>146972.0</td>\n",
       "      <td>...</td>\n",
       "      <td>249971.0</td>\n",
       "      <td>252279.0</td>\n",
       "      <td>254624.0</td>\n",
       "      <td>256973.0</td>\n",
       "      <td>259066.0</td>\n",
       "      <td>261710.0</td>\n",
       "      <td>264389.0</td>\n",
       "      <td>267830.0</td>\n",
       "      <td>271447.0</td>\n",
       "      <td>275702.0</td>\n",
       "    </tr>\n",
       "    <tr>\n",
       "      <th>4</th>\n",
       "      <td>394514</td>\n",
       "      <td>4</td>\n",
       "      <td>Dallas-Fort Worth, TX</td>\n",
       "      <td>Msa</td>\n",
       "      <td>TX</td>\n",
       "      <td>112761.0</td>\n",
       "      <td>112825.0</td>\n",
       "      <td>112986.0</td>\n",
       "      <td>113308.0</td>\n",
       "      <td>113656.0</td>\n",
       "      <td>...</td>\n",
       "      <td>266464.0</td>\n",
       "      <td>269047.0</td>\n",
       "      <td>271835.0</td>\n",
       "      <td>275156.0</td>\n",
       "      <td>278072.0</td>\n",
       "      <td>281908.0</td>\n",
       "      <td>286237.0</td>\n",
       "      <td>292023.0</td>\n",
       "      <td>298646.0</td>\n",
       "      <td>306031.0</td>\n",
       "    </tr>\n",
       "  </tbody>\n",
       "</table>\n",
       "<p>5 rows × 311 columns</p>\n",
       "</div>"
      ],
      "text/plain": [
       "   RegionID  SizeRank                          RegionName RegionType  \\\n",
       "0    102001         0                       United States    Country   \n",
       "1    394913         1                        New York, NY        Msa   \n",
       "2    753899         2  Los Angeles-Long Beach-Anaheim, CA        Msa   \n",
       "3    394463         3                         Chicago, IL        Msa   \n",
       "4    394514         4               Dallas-Fort Worth, TX        Msa   \n",
       "\n",
       "  StateName  1996-01-31  1996-02-29  1996-03-31  1996-04-30  1996-05-31  ...  \\\n",
       "0       NaN    107824.0    107851.0    107901.0    108028.0    108172.0  ...   \n",
       "1        NY    186425.0    185990.0    185713.0    185184.0    184869.0  ...   \n",
       "2        CA    184735.0    184993.0    185012.0    185121.0    185094.0  ...   \n",
       "3        IL    147146.0    147127.0    147006.0    147067.0    146972.0  ...   \n",
       "4        TX    112761.0    112825.0    112986.0    113308.0    113656.0  ...   \n",
       "\n",
       "   2020-09-30  2020-10-31  2020-11-30  2020-12-31  2021-01-31  2021-02-28  \\\n",
       "0    260160.0    262686.0    265487.0    268473.0    271572.0    274922.0   \n",
       "1    493243.0    497873.0    502895.0    507811.0    512569.0    517462.0   \n",
       "2    711532.0    718286.0    725600.0    733705.0    741990.0    751018.0   \n",
       "3    249971.0    252279.0    254624.0    256973.0    259066.0    261710.0   \n",
       "4    266464.0    269047.0    271835.0    275156.0    278072.0    281908.0   \n",
       "\n",
       "   2021-03-31  2021-04-30  2021-05-31  2021-06-30  \n",
       "0    278575.0    282729.0    287678.0    293349.0  \n",
       "1    522617.0    528316.0    535161.0    543322.0  \n",
       "2    760575.0    773151.0    791679.0    813679.0  \n",
       "3    264389.0    267830.0    271447.0    275702.0  \n",
       "4    286237.0    292023.0    298646.0    306031.0  \n",
       "\n",
       "[5 rows x 311 columns]"
      ]
     },
     "execution_count": 3,
     "metadata": {},
     "output_type": "execute_result"
    }
   ],
   "source": [
    "house_df.head()"
   ]
  },
  {
   "cell_type": "code",
   "execution_count": 4,
   "id": "e54f74ea",
   "metadata": {},
   "outputs": [
    {
     "data": {
      "text/plain": [
       "(911, 311)"
      ]
     },
     "execution_count": 4,
     "metadata": {},
     "output_type": "execute_result"
    }
   ],
   "source": [
    "house_df.shape"
   ]
  },
  {
   "cell_type": "code",
   "execution_count": 5,
   "id": "a1c342d4",
   "metadata": {},
   "outputs": [
    {
     "data": {
      "text/plain": [
       "RegionID      911\n",
       "SizeRank      907\n",
       "RegionName    911\n",
       "RegionType      2\n",
       "StateName      51\n",
       "             ... \n",
       "2021-02-28    907\n",
       "2021-03-31    910\n",
       "2021-04-30    909\n",
       "2021-05-31    908\n",
       "2021-06-30    910\n",
       "Length: 311, dtype: int64"
      ]
     },
     "execution_count": 5,
     "metadata": {},
     "output_type": "execute_result"
    }
   ],
   "source": [
    "house_df.nunique()"
   ]
  },
  {
   "cell_type": "code",
   "execution_count": 6,
   "id": "b72bf18d",
   "metadata": {},
   "outputs": [
    {
     "data": {
      "text/plain": [
       "array(['Country', 'Msa'], dtype=object)"
      ]
     },
     "execution_count": 6,
     "metadata": {},
     "output_type": "execute_result"
    }
   ],
   "source": [
    "house_df.RegionType.unique()"
   ]
  },
  {
   "cell_type": "code",
   "execution_count": 7,
   "id": "0c1465f0",
   "metadata": {},
   "outputs": [
    {
     "data": {
      "text/html": [
       "<div>\n",
       "<style scoped>\n",
       "    .dataframe tbody tr th:only-of-type {\n",
       "        vertical-align: middle;\n",
       "    }\n",
       "\n",
       "    .dataframe tbody tr th {\n",
       "        vertical-align: top;\n",
       "    }\n",
       "\n",
       "    .dataframe thead th {\n",
       "        text-align: right;\n",
       "    }\n",
       "</style>\n",
       "<table border=\"1\" class=\"dataframe\">\n",
       "  <thead>\n",
       "    <tr style=\"text-align: right;\">\n",
       "      <th></th>\n",
       "      <th>RegionID</th>\n",
       "      <th>SizeRank</th>\n",
       "      <th>RegionName</th>\n",
       "      <th>RegionType</th>\n",
       "      <th>StateName</th>\n",
       "      <th>1996-01-31</th>\n",
       "      <th>1996-02-29</th>\n",
       "      <th>1996-03-31</th>\n",
       "      <th>1996-04-30</th>\n",
       "      <th>1996-05-31</th>\n",
       "      <th>...</th>\n",
       "      <th>2020-09-30</th>\n",
       "      <th>2020-10-31</th>\n",
       "      <th>2020-11-30</th>\n",
       "      <th>2020-12-31</th>\n",
       "      <th>2021-01-31</th>\n",
       "      <th>2021-02-28</th>\n",
       "      <th>2021-03-31</th>\n",
       "      <th>2021-04-30</th>\n",
       "      <th>2021-05-31</th>\n",
       "      <th>2021-06-30</th>\n",
       "    </tr>\n",
       "  </thead>\n",
       "  <tbody>\n",
       "    <tr>\n",
       "      <th>14</th>\n",
       "      <td>394976</td>\n",
       "      <td>14</td>\n",
       "      <td>Phoenix, AZ</td>\n",
       "      <td>Msa</td>\n",
       "      <td>AZ</td>\n",
       "      <td>113358.0</td>\n",
       "      <td>113674.0</td>\n",
       "      <td>114035.0</td>\n",
       "      <td>114729.0</td>\n",
       "      <td>115407.0</td>\n",
       "      <td>...</td>\n",
       "      <td>309378.0</td>\n",
       "      <td>314378.0</td>\n",
       "      <td>319944.0</td>\n",
       "      <td>325900.0</td>\n",
       "      <td>332956.0</td>\n",
       "      <td>340211.0</td>\n",
       "      <td>348632.0</td>\n",
       "      <td>356369.0</td>\n",
       "      <td>367329.0</td>\n",
       "      <td>379485.0</td>\n",
       "    </tr>\n",
       "    <tr>\n",
       "      <th>53</th>\n",
       "      <td>395167</td>\n",
       "      <td>53</td>\n",
       "      <td>Tucson, AZ</td>\n",
       "      <td>Msa</td>\n",
       "      <td>AZ</td>\n",
       "      <td>112496.0</td>\n",
       "      <td>112839.0</td>\n",
       "      <td>113237.0</td>\n",
       "      <td>113814.0</td>\n",
       "      <td>114250.0</td>\n",
       "      <td>...</td>\n",
       "      <td>237474.0</td>\n",
       "      <td>240487.0</td>\n",
       "      <td>244336.0</td>\n",
       "      <td>248561.0</td>\n",
       "      <td>253702.0</td>\n",
       "      <td>258457.0</td>\n",
       "      <td>263326.0</td>\n",
       "      <td>267762.0</td>\n",
       "      <td>274361.0</td>\n",
       "      <td>282493.0</td>\n",
       "    </tr>\n",
       "    <tr>\n",
       "      <th>202</th>\n",
       "      <td>395002</td>\n",
       "      <td>202</td>\n",
       "      <td>Prescott, AZ</td>\n",
       "      <td>Msa</td>\n",
       "      <td>AZ</td>\n",
       "      <td>126235.0</td>\n",
       "      <td>126372.0</td>\n",
       "      <td>126768.0</td>\n",
       "      <td>127237.0</td>\n",
       "      <td>127831.0</td>\n",
       "      <td>...</td>\n",
       "      <td>338104.0</td>\n",
       "      <td>344097.0</td>\n",
       "      <td>351254.0</td>\n",
       "      <td>359014.0</td>\n",
       "      <td>366254.0</td>\n",
       "      <td>374474.0</td>\n",
       "      <td>382968.0</td>\n",
       "      <td>393789.0</td>\n",
       "      <td>405132.0</td>\n",
       "      <td>419581.0</td>\n",
       "    </tr>\n",
       "    <tr>\n",
       "      <th>213</th>\n",
       "      <td>394765</td>\n",
       "      <td>213</td>\n",
       "      <td>Lake Havasu City, AZ</td>\n",
       "      <td>Msa</td>\n",
       "      <td>AZ</td>\n",
       "      <td>97264.0</td>\n",
       "      <td>97240.0</td>\n",
       "      <td>97232.0</td>\n",
       "      <td>97252.0</td>\n",
       "      <td>97391.0</td>\n",
       "      <td>...</td>\n",
       "      <td>255089.0</td>\n",
       "      <td>259226.0</td>\n",
       "      <td>263916.0</td>\n",
       "      <td>268636.0</td>\n",
       "      <td>273167.0</td>\n",
       "      <td>278048.0</td>\n",
       "      <td>284363.0</td>\n",
       "      <td>292054.0</td>\n",
       "      <td>301332.0</td>\n",
       "      <td>311178.0</td>\n",
       "    </tr>\n",
       "    <tr>\n",
       "      <th>218</th>\n",
       "      <td>395247</td>\n",
       "      <td>218</td>\n",
       "      <td>Yuma, AZ</td>\n",
       "      <td>Msa</td>\n",
       "      <td>AZ</td>\n",
       "      <td>NaN</td>\n",
       "      <td>NaN</td>\n",
       "      <td>NaN</td>\n",
       "      <td>NaN</td>\n",
       "      <td>NaN</td>\n",
       "      <td>...</td>\n",
       "      <td>177319.0</td>\n",
       "      <td>180291.0</td>\n",
       "      <td>183315.0</td>\n",
       "      <td>186173.0</td>\n",
       "      <td>189023.0</td>\n",
       "      <td>192840.0</td>\n",
       "      <td>197415.0</td>\n",
       "      <td>201546.0</td>\n",
       "      <td>205657.0</td>\n",
       "      <td>209514.0</td>\n",
       "    </tr>\n",
       "  </tbody>\n",
       "</table>\n",
       "<p>5 rows × 311 columns</p>\n",
       "</div>"
      ],
      "text/plain": [
       "     RegionID  SizeRank            RegionName RegionType StateName  \\\n",
       "14     394976        14           Phoenix, AZ        Msa        AZ   \n",
       "53     395167        53            Tucson, AZ        Msa        AZ   \n",
       "202    395002       202          Prescott, AZ        Msa        AZ   \n",
       "213    394765       213  Lake Havasu City, AZ        Msa        AZ   \n",
       "218    395247       218              Yuma, AZ        Msa        AZ   \n",
       "\n",
       "     1996-01-31  1996-02-29  1996-03-31  1996-04-30  1996-05-31  ...  \\\n",
       "14     113358.0    113674.0    114035.0    114729.0    115407.0  ...   \n",
       "53     112496.0    112839.0    113237.0    113814.0    114250.0  ...   \n",
       "202    126235.0    126372.0    126768.0    127237.0    127831.0  ...   \n",
       "213     97264.0     97240.0     97232.0     97252.0     97391.0  ...   \n",
       "218         NaN         NaN         NaN         NaN         NaN  ...   \n",
       "\n",
       "     2020-09-30  2020-10-31  2020-11-30  2020-12-31  2021-01-31  2021-02-28  \\\n",
       "14     309378.0    314378.0    319944.0    325900.0    332956.0    340211.0   \n",
       "53     237474.0    240487.0    244336.0    248561.0    253702.0    258457.0   \n",
       "202    338104.0    344097.0    351254.0    359014.0    366254.0    374474.0   \n",
       "213    255089.0    259226.0    263916.0    268636.0    273167.0    278048.0   \n",
       "218    177319.0    180291.0    183315.0    186173.0    189023.0    192840.0   \n",
       "\n",
       "     2021-03-31  2021-04-30  2021-05-31  2021-06-30  \n",
       "14     348632.0    356369.0    367329.0    379485.0  \n",
       "53     263326.0    267762.0    274361.0    282493.0  \n",
       "202    382968.0    393789.0    405132.0    419581.0  \n",
       "213    284363.0    292054.0    301332.0    311178.0  \n",
       "218    197415.0    201546.0    205657.0    209514.0  \n",
       "\n",
       "[5 rows x 311 columns]"
      ]
     },
     "execution_count": 7,
     "metadata": {},
     "output_type": "execute_result"
    }
   ],
   "source": [
    "az_housing_df = house_df[house_df.StateName == 'AZ']\n",
    "az_housing_df.head()"
   ]
  },
  {
   "cell_type": "code",
   "execution_count": 8,
   "id": "13be180f",
   "metadata": {},
   "outputs": [],
   "source": [
    "phx = house_df[house_df.RegionID == 394976].copy()"
   ]
  },
  {
   "cell_type": "code",
   "execution_count": 9,
   "id": "de999e2b",
   "metadata": {},
   "outputs": [
    {
     "data": {
      "text/html": [
       "<div>\n",
       "<style scoped>\n",
       "    .dataframe tbody tr th:only-of-type {\n",
       "        vertical-align: middle;\n",
       "    }\n",
       "\n",
       "    .dataframe tbody tr th {\n",
       "        vertical-align: top;\n",
       "    }\n",
       "\n",
       "    .dataframe thead th {\n",
       "        text-align: right;\n",
       "    }\n",
       "</style>\n",
       "<table border=\"1\" class=\"dataframe\">\n",
       "  <thead>\n",
       "    <tr style=\"text-align: right;\">\n",
       "      <th></th>\n",
       "      <th>RegionID</th>\n",
       "      <th>SizeRank</th>\n",
       "      <th>RegionName</th>\n",
       "      <th>RegionType</th>\n",
       "      <th>StateName</th>\n",
       "      <th>1996-01-31</th>\n",
       "      <th>1996-02-29</th>\n",
       "      <th>1996-03-31</th>\n",
       "      <th>1996-04-30</th>\n",
       "      <th>1996-05-31</th>\n",
       "      <th>...</th>\n",
       "      <th>2020-09-30</th>\n",
       "      <th>2020-10-31</th>\n",
       "      <th>2020-11-30</th>\n",
       "      <th>2020-12-31</th>\n",
       "      <th>2021-01-31</th>\n",
       "      <th>2021-02-28</th>\n",
       "      <th>2021-03-31</th>\n",
       "      <th>2021-04-30</th>\n",
       "      <th>2021-05-31</th>\n",
       "      <th>2021-06-30</th>\n",
       "    </tr>\n",
       "  </thead>\n",
       "  <tbody>\n",
       "    <tr>\n",
       "      <th>14</th>\n",
       "      <td>394976</td>\n",
       "      <td>14</td>\n",
       "      <td>Phoenix, AZ</td>\n",
       "      <td>Msa</td>\n",
       "      <td>AZ</td>\n",
       "      <td>113358.0</td>\n",
       "      <td>113674.0</td>\n",
       "      <td>114035.0</td>\n",
       "      <td>114729.0</td>\n",
       "      <td>115407.0</td>\n",
       "      <td>...</td>\n",
       "      <td>309378.0</td>\n",
       "      <td>314378.0</td>\n",
       "      <td>319944.0</td>\n",
       "      <td>325900.0</td>\n",
       "      <td>332956.0</td>\n",
       "      <td>340211.0</td>\n",
       "      <td>348632.0</td>\n",
       "      <td>356369.0</td>\n",
       "      <td>367329.0</td>\n",
       "      <td>379485.0</td>\n",
       "    </tr>\n",
       "  </tbody>\n",
       "</table>\n",
       "<p>1 rows × 311 columns</p>\n",
       "</div>"
      ],
      "text/plain": [
       "    RegionID  SizeRank   RegionName RegionType StateName  1996-01-31  \\\n",
       "14    394976        14  Phoenix, AZ        Msa        AZ    113358.0   \n",
       "\n",
       "    1996-02-29  1996-03-31  1996-04-30  1996-05-31  ...  2020-09-30  \\\n",
       "14    113674.0    114035.0    114729.0    115407.0  ...    309378.0   \n",
       "\n",
       "    2020-10-31  2020-11-30  2020-12-31  2021-01-31  2021-02-28  2021-03-31  \\\n",
       "14    314378.0    319944.0    325900.0    332956.0    340211.0    348632.0   \n",
       "\n",
       "    2021-04-30  2021-05-31  2021-06-30  \n",
       "14    356369.0    367329.0    379485.0  \n",
       "\n",
       "[1 rows x 311 columns]"
      ]
     },
     "execution_count": 9,
     "metadata": {},
     "output_type": "execute_result"
    }
   ],
   "source": [
    "phx.head()"
   ]
  },
  {
   "cell_type": "code",
   "execution_count": 10,
   "id": "573cab12",
   "metadata": {},
   "outputs": [],
   "source": [
    "cols_to_drop = ['RegionID', 'SizeRank', 'RegionType', 'StateName']\n",
    "phx_df = phx.drop(columns=cols_to_drop)"
   ]
  },
  {
   "cell_type": "code",
   "execution_count": 11,
   "id": "83667630",
   "metadata": {},
   "outputs": [
    {
     "data": {
      "text/html": [
       "<div>\n",
       "<style scoped>\n",
       "    .dataframe tbody tr th:only-of-type {\n",
       "        vertical-align: middle;\n",
       "    }\n",
       "\n",
       "    .dataframe tbody tr th {\n",
       "        vertical-align: top;\n",
       "    }\n",
       "\n",
       "    .dataframe thead th {\n",
       "        text-align: right;\n",
       "    }\n",
       "</style>\n",
       "<table border=\"1\" class=\"dataframe\">\n",
       "  <thead>\n",
       "    <tr style=\"text-align: right;\">\n",
       "      <th></th>\n",
       "      <th>RegionName</th>\n",
       "      <th>1996-01-31</th>\n",
       "      <th>1996-02-29</th>\n",
       "      <th>1996-03-31</th>\n",
       "      <th>1996-04-30</th>\n",
       "      <th>1996-05-31</th>\n",
       "      <th>1996-06-30</th>\n",
       "      <th>1996-07-31</th>\n",
       "      <th>1996-08-31</th>\n",
       "      <th>1996-09-30</th>\n",
       "      <th>...</th>\n",
       "      <th>2020-09-30</th>\n",
       "      <th>2020-10-31</th>\n",
       "      <th>2020-11-30</th>\n",
       "      <th>2020-12-31</th>\n",
       "      <th>2021-01-31</th>\n",
       "      <th>2021-02-28</th>\n",
       "      <th>2021-03-31</th>\n",
       "      <th>2021-04-30</th>\n",
       "      <th>2021-05-31</th>\n",
       "      <th>2021-06-30</th>\n",
       "    </tr>\n",
       "  </thead>\n",
       "  <tbody>\n",
       "    <tr>\n",
       "      <th>14</th>\n",
       "      <td>Phoenix, AZ</td>\n",
       "      <td>113358.0</td>\n",
       "      <td>113674.0</td>\n",
       "      <td>114035.0</td>\n",
       "      <td>114729.0</td>\n",
       "      <td>115407.0</td>\n",
       "      <td>116018.0</td>\n",
       "      <td>116584.0</td>\n",
       "      <td>117102.0</td>\n",
       "      <td>117614.0</td>\n",
       "      <td>...</td>\n",
       "      <td>309378.0</td>\n",
       "      <td>314378.0</td>\n",
       "      <td>319944.0</td>\n",
       "      <td>325900.0</td>\n",
       "      <td>332956.0</td>\n",
       "      <td>340211.0</td>\n",
       "      <td>348632.0</td>\n",
       "      <td>356369.0</td>\n",
       "      <td>367329.0</td>\n",
       "      <td>379485.0</td>\n",
       "    </tr>\n",
       "  </tbody>\n",
       "</table>\n",
       "<p>1 rows × 307 columns</p>\n",
       "</div>"
      ],
      "text/plain": [
       "     RegionName  1996-01-31  1996-02-29  1996-03-31  1996-04-30  1996-05-31  \\\n",
       "14  Phoenix, AZ    113358.0    113674.0    114035.0    114729.0    115407.0   \n",
       "\n",
       "    1996-06-30  1996-07-31  1996-08-31  1996-09-30  ...  2020-09-30  \\\n",
       "14    116018.0    116584.0    117102.0    117614.0  ...    309378.0   \n",
       "\n",
       "    2020-10-31  2020-11-30  2020-12-31  2021-01-31  2021-02-28  2021-03-31  \\\n",
       "14    314378.0    319944.0    325900.0    332956.0    340211.0    348632.0   \n",
       "\n",
       "    2021-04-30  2021-05-31  2021-06-30  \n",
       "14    356369.0    367329.0    379485.0  \n",
       "\n",
       "[1 rows x 307 columns]"
      ]
     },
     "execution_count": 11,
     "metadata": {},
     "output_type": "execute_result"
    }
   ],
   "source": [
    "phx_df.head()"
   ]
  },
  {
   "cell_type": "code",
   "execution_count": 12,
   "id": "59c31e73",
   "metadata": {},
   "outputs": [],
   "source": [
    "phx_t = phx_df.T"
   ]
  },
  {
   "cell_type": "code",
   "execution_count": 13,
   "id": "8985a2bb",
   "metadata": {},
   "outputs": [],
   "source": [
    "phx_t = phx_t.rename(columns={14: \"Phoenix\"})"
   ]
  },
  {
   "cell_type": "code",
   "execution_count": 14,
   "id": "429ec577",
   "metadata": {},
   "outputs": [
    {
     "data": {
      "text/plain": [
       "['Phoenix']"
      ]
     },
     "execution_count": 14,
     "metadata": {},
     "output_type": "execute_result"
    }
   ],
   "source": [
    "list(phx_t.columns)"
   ]
  },
  {
   "cell_type": "code",
   "execution_count": 15,
   "id": "1ae0818d",
   "metadata": {},
   "outputs": [
    {
     "data": {
      "text/html": [
       "<div>\n",
       "<style scoped>\n",
       "    .dataframe tbody tr th:only-of-type {\n",
       "        vertical-align: middle;\n",
       "    }\n",
       "\n",
       "    .dataframe tbody tr th {\n",
       "        vertical-align: top;\n",
       "    }\n",
       "\n",
       "    .dataframe thead th {\n",
       "        text-align: right;\n",
       "    }\n",
       "</style>\n",
       "<table border=\"1\" class=\"dataframe\">\n",
       "  <thead>\n",
       "    <tr style=\"text-align: right;\">\n",
       "      <th></th>\n",
       "      <th>Phoenix</th>\n",
       "    </tr>\n",
       "  </thead>\n",
       "  <tbody>\n",
       "    <tr>\n",
       "      <th>RegionName</th>\n",
       "      <td>Phoenix, AZ</td>\n",
       "    </tr>\n",
       "    <tr>\n",
       "      <th>1996-01-31</th>\n",
       "      <td>113358.0</td>\n",
       "    </tr>\n",
       "    <tr>\n",
       "      <th>1996-02-29</th>\n",
       "      <td>113674.0</td>\n",
       "    </tr>\n",
       "    <tr>\n",
       "      <th>1996-03-31</th>\n",
       "      <td>114035.0</td>\n",
       "    </tr>\n",
       "    <tr>\n",
       "      <th>1996-04-30</th>\n",
       "      <td>114729.0</td>\n",
       "    </tr>\n",
       "  </tbody>\n",
       "</table>\n",
       "</div>"
      ],
      "text/plain": [
       "                Phoenix\n",
       "RegionName  Phoenix, AZ\n",
       "1996-01-31     113358.0\n",
       "1996-02-29     113674.0\n",
       "1996-03-31     114035.0\n",
       "1996-04-30     114729.0"
      ]
     },
     "execution_count": 15,
     "metadata": {},
     "output_type": "execute_result"
    }
   ],
   "source": [
    "phx_t.head()"
   ]
  },
  {
   "cell_type": "code",
   "execution_count": 16,
   "id": "c264b03d",
   "metadata": {},
   "outputs": [
    {
     "data": {
      "text/plain": [
       "(307, 1)"
      ]
     },
     "execution_count": 16,
     "metadata": {},
     "output_type": "execute_result"
    }
   ],
   "source": [
    "phx_t.shape"
   ]
  },
  {
   "cell_type": "code",
   "execution_count": 17,
   "id": "05467d28",
   "metadata": {},
   "outputs": [
    {
     "data": {
      "text/plain": [
       "Phoenix    307\n",
       "dtype: int64"
      ]
     },
     "execution_count": 17,
     "metadata": {},
     "output_type": "execute_result"
    }
   ],
   "source": [
    "phx_t.nunique()"
   ]
  },
  {
   "cell_type": "code",
   "execution_count": 18,
   "id": "c56a88ff",
   "metadata": {},
   "outputs": [],
   "source": [
    "phx_t = phx_t.drop('RegionName', axis=0)"
   ]
  },
  {
   "cell_type": "code",
   "execution_count": 19,
   "id": "9283a764",
   "metadata": {},
   "outputs": [
    {
     "data": {
      "text/html": [
       "<div>\n",
       "<style scoped>\n",
       "    .dataframe tbody tr th:only-of-type {\n",
       "        vertical-align: middle;\n",
       "    }\n",
       "\n",
       "    .dataframe tbody tr th {\n",
       "        vertical-align: top;\n",
       "    }\n",
       "\n",
       "    .dataframe thead th {\n",
       "        text-align: right;\n",
       "    }\n",
       "</style>\n",
       "<table border=\"1\" class=\"dataframe\">\n",
       "  <thead>\n",
       "    <tr style=\"text-align: right;\">\n",
       "      <th></th>\n",
       "      <th>Phoenix</th>\n",
       "    </tr>\n",
       "  </thead>\n",
       "  <tbody>\n",
       "    <tr>\n",
       "      <th>1996-01-31</th>\n",
       "      <td>113358.0</td>\n",
       "    </tr>\n",
       "    <tr>\n",
       "      <th>1996-02-29</th>\n",
       "      <td>113674.0</td>\n",
       "    </tr>\n",
       "    <tr>\n",
       "      <th>1996-03-31</th>\n",
       "      <td>114035.0</td>\n",
       "    </tr>\n",
       "    <tr>\n",
       "      <th>1996-04-30</th>\n",
       "      <td>114729.0</td>\n",
       "    </tr>\n",
       "    <tr>\n",
       "      <th>1996-05-31</th>\n",
       "      <td>115407.0</td>\n",
       "    </tr>\n",
       "  </tbody>\n",
       "</table>\n",
       "</div>"
      ],
      "text/plain": [
       "             Phoenix\n",
       "1996-01-31  113358.0\n",
       "1996-02-29  113674.0\n",
       "1996-03-31  114035.0\n",
       "1996-04-30  114729.0\n",
       "1996-05-31  115407.0"
      ]
     },
     "execution_count": 19,
     "metadata": {},
     "output_type": "execute_result"
    }
   ],
   "source": [
    "phx_t.head()"
   ]
  },
  {
   "cell_type": "code",
   "execution_count": 20,
   "id": "770e94cd",
   "metadata": {},
   "outputs": [],
   "source": [
    "#phx_t = phx_t.Phoenix.astype('int64').dtypes\n"
   ]
  },
  {
   "cell_type": "code",
   "execution_count": 24,
   "id": "1003b399",
   "metadata": {},
   "outputs": [
    {
     "data": {
      "text/plain": [
       "index      object\n",
       "Phoenix    object\n",
       "dtype: object"
      ]
     },
     "execution_count": 24,
     "metadata": {},
     "output_type": "execute_result"
    }
   ],
   "source": [
    "phx_t.dtypes"
   ]
  },
  {
   "cell_type": "code",
   "execution_count": 22,
   "id": "a46eea89",
   "metadata": {},
   "outputs": [],
   "source": [
    "phx_t = phx_t.reset_index()"
   ]
  },
  {
   "cell_type": "code",
   "execution_count": 25,
   "id": "79c40608",
   "metadata": {},
   "outputs": [
    {
     "data": {
      "text/html": [
       "<div>\n",
       "<style scoped>\n",
       "    .dataframe tbody tr th:only-of-type {\n",
       "        vertical-align: middle;\n",
       "    }\n",
       "\n",
       "    .dataframe tbody tr th {\n",
       "        vertical-align: top;\n",
       "    }\n",
       "\n",
       "    .dataframe thead th {\n",
       "        text-align: right;\n",
       "    }\n",
       "</style>\n",
       "<table border=\"1\" class=\"dataframe\">\n",
       "  <thead>\n",
       "    <tr style=\"text-align: right;\">\n",
       "      <th></th>\n",
       "      <th>index</th>\n",
       "      <th>Phoenix</th>\n",
       "    </tr>\n",
       "  </thead>\n",
       "  <tbody>\n",
       "    <tr>\n",
       "      <th>0</th>\n",
       "      <td>1996-01-31</td>\n",
       "      <td>113358.0</td>\n",
       "    </tr>\n",
       "    <tr>\n",
       "      <th>1</th>\n",
       "      <td>1996-02-29</td>\n",
       "      <td>113674.0</td>\n",
       "    </tr>\n",
       "    <tr>\n",
       "      <th>2</th>\n",
       "      <td>1996-03-31</td>\n",
       "      <td>114035.0</td>\n",
       "    </tr>\n",
       "    <tr>\n",
       "      <th>3</th>\n",
       "      <td>1996-04-30</td>\n",
       "      <td>114729.0</td>\n",
       "    </tr>\n",
       "    <tr>\n",
       "      <th>4</th>\n",
       "      <td>1996-05-31</td>\n",
       "      <td>115407.0</td>\n",
       "    </tr>\n",
       "  </tbody>\n",
       "</table>\n",
       "</div>"
      ],
      "text/plain": [
       "        index   Phoenix\n",
       "0  1996-01-31  113358.0\n",
       "1  1996-02-29  113674.0\n",
       "2  1996-03-31  114035.0\n",
       "3  1996-04-30  114729.0\n",
       "4  1996-05-31  115407.0"
      ]
     },
     "execution_count": 25,
     "metadata": {},
     "output_type": "execute_result"
    }
   ],
   "source": [
    "phx_t.head()"
   ]
  },
  {
   "cell_type": "code",
   "execution_count": 26,
   "id": "77e537b8",
   "metadata": {},
   "outputs": [],
   "source": [
    "phx_t = phx_t.rename(columns={'index':'Date'})"
   ]
  },
  {
   "cell_type": "code",
   "execution_count": 27,
   "id": "379270b0",
   "metadata": {},
   "outputs": [
    {
     "data": {
      "text/html": [
       "<div>\n",
       "<style scoped>\n",
       "    .dataframe tbody tr th:only-of-type {\n",
       "        vertical-align: middle;\n",
       "    }\n",
       "\n",
       "    .dataframe tbody tr th {\n",
       "        vertical-align: top;\n",
       "    }\n",
       "\n",
       "    .dataframe thead th {\n",
       "        text-align: right;\n",
       "    }\n",
       "</style>\n",
       "<table border=\"1\" class=\"dataframe\">\n",
       "  <thead>\n",
       "    <tr style=\"text-align: right;\">\n",
       "      <th></th>\n",
       "      <th>Date</th>\n",
       "      <th>Phoenix</th>\n",
       "    </tr>\n",
       "  </thead>\n",
       "  <tbody>\n",
       "    <tr>\n",
       "      <th>0</th>\n",
       "      <td>1996-01-31</td>\n",
       "      <td>113358.0</td>\n",
       "    </tr>\n",
       "    <tr>\n",
       "      <th>1</th>\n",
       "      <td>1996-02-29</td>\n",
       "      <td>113674.0</td>\n",
       "    </tr>\n",
       "    <tr>\n",
       "      <th>2</th>\n",
       "      <td>1996-03-31</td>\n",
       "      <td>114035.0</td>\n",
       "    </tr>\n",
       "    <tr>\n",
       "      <th>3</th>\n",
       "      <td>1996-04-30</td>\n",
       "      <td>114729.0</td>\n",
       "    </tr>\n",
       "    <tr>\n",
       "      <th>4</th>\n",
       "      <td>1996-05-31</td>\n",
       "      <td>115407.0</td>\n",
       "    </tr>\n",
       "  </tbody>\n",
       "</table>\n",
       "</div>"
      ],
      "text/plain": [
       "         Date   Phoenix\n",
       "0  1996-01-31  113358.0\n",
       "1  1996-02-29  113674.0\n",
       "2  1996-03-31  114035.0\n",
       "3  1996-04-30  114729.0\n",
       "4  1996-05-31  115407.0"
      ]
     },
     "execution_count": 27,
     "metadata": {},
     "output_type": "execute_result"
    }
   ],
   "source": [
    "phx_t.head()"
   ]
  },
  {
   "cell_type": "code",
   "execution_count": 34,
   "id": "b9077b0a",
   "metadata": {},
   "outputs": [
    {
     "data": {
      "text/plain": [
       "count        306.0\n",
       "unique       306.0\n",
       "top       212049.0\n",
       "freq           1.0\n",
       "Name: Phoenix, dtype: float64"
      ]
     },
     "execution_count": 34,
     "metadata": {},
     "output_type": "execute_result"
    }
   ],
   "source": [
    "phx_t.Phoenix.describe()"
   ]
  },
  {
   "cell_type": "code",
   "execution_count": 43,
   "id": "e5050895",
   "metadata": {},
   "outputs": [
    {
     "data": {
      "text/plain": [
       "<AxesSubplot:xlabel='Phoenix', ylabel='Count'>"
      ]
     },
     "execution_count": 43,
     "metadata": {},
     "output_type": "execute_result"
    },
    {
     "data": {
      "image/png": "[encoded data removed]",
      "text/plain": [
       "<Figure size 432x288 with 1 Axes>"
      ]
     },
     "metadata": {
      "needs_background": "light"
     },
     "output_type": "display_data"
    }
   ],
   "source": [
    "sns.histplot(data=phx_t, x='Phoenix')\n"
   ]
  },
  {
   "cell_type": "code",
   "execution_count": null,
   "id": "80957189",
   "metadata": {},
   "outputs": [],
   "source": []
  }
 ],
 "metadata": {
  "kernelspec": {
   "display_name": "Python 3",
   "language": "python",
   "name": "python3"
  },
  "language_info": {
   "codemirror_mode": {
    "name": "ipython",
    "version": 3
   },
   "file_extension": ".py",
   "mimetype": "text/x-python",
   "name": "python",
   "nbconvert_exporter": "python",
   "pygments_lexer": "ipython3",
   "version": "3.8.8"
  }
 },
 "nbformat": 4,
 "nbformat_minor": 5
}
