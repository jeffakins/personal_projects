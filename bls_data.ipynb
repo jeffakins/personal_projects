{
 "cells": [
  {
   "cell_type": "markdown",
   "id": "ac4d952a",
   "metadata": {},
   "source": [
    "# Accessing Data from the U.S. Bureau of Labor Statistics"
   ]
  },
  {
   "cell_type": "code",
   "execution_count": 1,
   "id": "17450952",
   "metadata": {},
   "outputs": [],
   "source": [
    "import requests\n",
    "import json\n",
    "import prettytable\n",
    "import pandas as pd"
   ]
  },
  {
   "cell_type": "code",
   "execution_count": 2,
   "id": "3ea804e0",
   "metadata": {},
   "outputs": [],
   "source": [
    "headers = {'Content-type': 'application/json'}\n",
    "data = json.dumps({\"seriesid\": ['CUUR0000SA0','SUUR0000SA0'],\"startyear\":\"2011\", \"endyear\":\"2014\"})\n",
    "p = requests.post('https://api.bls.gov/publicAPI/v2/timeseries/data/', data=data, headers=headers)\n",
    "json_data = json.loads(p.text)\n",
    "for series in json_data['Results']['series']:\n",
    "    x=prettytable.PrettyTable([\"series id\",\"year\",\"period\",\"value\",\"footnotes\"])\n",
    "    seriesId = series['seriesID']\n",
    "    for item in series['data']:\n",
    "        year = item['year']\n",
    "        period = item['period']\n",
    "        value = item['value']\n",
    "        footnotes=\"\"\n",
    "        for footnote in item['footnotes']:\n",
    "            if footnote:\n",
    "                footnotes = footnotes + footnote['text'] + ','\n",
    "        if 'M01' <= period <= 'M12':\n",
    "            x.add_row([seriesId,year,period,value,footnotes[0:-1]])\n",
    "    output = open(seriesId + '.txt','w')\n",
    "    output.write (x.get_string())\n",
    "    output.close()"
   ]
  },
  {
   "cell_type": "code",
   "execution_count": 5,
   "id": "45dc221e",
   "metadata": {},
   "outputs": [],
   "source": [
    "test = pd.read_csv('CUUR0000SA0.txt')"
   ]
  },
  {
   "cell_type": "code",
   "execution_count": 6,
   "id": "39d34e94",
   "metadata": {},
   "outputs": [
    {
     "data": {
      "text/html": [
       "<div>\n",
       "<style scoped>\n",
       "    .dataframe tbody tr th:only-of-type {\n",
       "        vertical-align: middle;\n",
       "    }\n",
       "\n",
       "    .dataframe tbody tr th {\n",
       "        vertical-align: top;\n",
       "    }\n",
       "\n",
       "    .dataframe thead th {\n",
       "        text-align: right;\n",
       "    }\n",
       "</style>\n",
       "<table border=\"1\" class=\"dataframe\">\n",
       "  <thead>\n",
       "    <tr style=\"text-align: right;\">\n",
       "      <th></th>\n",
       "      <th>+-------------+------+--------+---------+-----------+</th>\n",
       "    </tr>\n",
       "  </thead>\n",
       "  <tbody>\n",
       "    <tr>\n",
       "      <th>0</th>\n",
       "      <td>|  series id  | year | period |  value  | foot...</td>\n",
       "    </tr>\n",
       "    <tr>\n",
       "      <th>1</th>\n",
       "      <td>+-------------+------+--------+---------+-----...</td>\n",
       "    </tr>\n",
       "    <tr>\n",
       "      <th>2</th>\n",
       "      <td>| CUUR0000SA0 | 2014 |  M12   | 234.812 |     ...</td>\n",
       "    </tr>\n",
       "    <tr>\n",
       "      <th>3</th>\n",
       "      <td>| CUUR0000SA0 | 2014 |  M11   | 236.151 |     ...</td>\n",
       "    </tr>\n",
       "    <tr>\n",
       "      <th>4</th>\n",
       "      <td>| CUUR0000SA0 | 2014 |  M10   | 237.433 |     ...</td>\n",
       "    </tr>\n",
       "  </tbody>\n",
       "</table>\n",
       "</div>"
      ],
      "text/plain": [
       "  +-------------+------+--------+---------+-----------+\n",
       "0  |  series id  | year | period |  value  | foot...   \n",
       "1  +-------------+------+--------+---------+-----...   \n",
       "2  | CUUR0000SA0 | 2014 |  M12   | 234.812 |     ...   \n",
       "3  | CUUR0000SA0 | 2014 |  M11   | 236.151 |     ...   \n",
       "4  | CUUR0000SA0 | 2014 |  M10   | 237.433 |     ...   "
      ]
     },
     "execution_count": 6,
     "metadata": {},
     "output_type": "execute_result"
    }
   ],
   "source": [
    "test.head()"
   ]
  },
  {
   "cell_type": "code",
   "execution_count": null,
   "id": "979a5621",
   "metadata": {},
   "outputs": [],
   "source": []
  }
 ],
 "metadata": {
  "kernelspec": {
   "display_name": "Python 3",
   "language": "python",
   "name": "python3"
  },
  "language_info": {
   "codemirror_mode": {
    "name": "ipython",
    "version": 3
   },
   "file_extension": ".py",
   "mimetype": "text/x-python",
   "name": "python",
   "nbconvert_exporter": "python",
   "pygments_lexer": "ipython3",
   "version": "3.8.8"
  }
 },
 "nbformat": 4,
 "nbformat_minor": 5
}
