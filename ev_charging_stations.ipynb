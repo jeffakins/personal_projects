{
 "cells": [
  {
   "cell_type": "markdown",
   "id": "e7052833",
   "metadata": {},
   "source": [
    "# Electric Vehicle Charging Stations"
   ]
  },
  {
   "cell_type": "markdown",
   "id": "dcd44aa4",
   "metadata": {},
   "source": [
    "##### Intent:\n",
    "- The intent for this notebook is to clean the CVS files acquired through the data.gov (EPA's) website so that they only show the EV charging locations for 2012 and 2021. I will then pass the data to Tableau to visualize on a map the change in the number of charging stations from 2012 to 2021. \n",
    "- I will also look to see if I can find any other interesting information along the way..."
   ]
  },
  {
   "cell_type": "code",
   "execution_count": null,
   "id": "ffe01486",
   "metadata": {},
   "outputs": [],
   "source": [
    "# ignore warnings\n",
    "import warnings\n",
    "warnings.filterwarnings(\"ignore\")\n",
    "\n",
    "# Wrangling\n",
    "import pandas as pd\n",
    "import numpy as np\n",
    "from sklearn.model_selection import train_test_split\n",
    "\n",
    "# Statistical Tests\n",
    "import scipy.stats as stats\n",
    "\n",
    "# Visualizing\n",
    "import matplotlib.pyplot as plt\n",
    "from matplotlib import cm\n",
    "import seaborn as sns"
   ]
  }
 ],
 "metadata": {
  "kernelspec": {
   "display_name": "Python 3",
   "language": "python",
   "name": "python3"
  },
  "language_info": {
   "codemirror_mode": {
    "name": "ipython",
    "version": 3
   },
   "file_extension": ".py",
   "mimetype": "text/x-python",
   "name": "python",
   "nbconvert_exporter": "python",
   "pygments_lexer": "ipython3",
   "version": "3.8.8"
  }
 },
 "nbformat": 4,
 "nbformat_minor": 5
}
